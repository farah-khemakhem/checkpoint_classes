{
 "cells": [
  {
   "cell_type": "markdown",
   "metadata": {},
   "source": [
    "Objective \n",
    "1. Write a Python program to find a pair of elements (indices of the two numbers) from a given array whose sum equals\n",
    "a specific target number Input: numbers= [10,20,10,40,50,60,70], target=50 Output: 3, 4\n",
    "\n",
    " 2. Write a Python class to get all possible unique subsets from a set of distinct integers.\n",
    "Input : [4, 5, 6] Output : [[], [6], [5], [5, 6], [4], [4, 6], [4, 5], [4, 5, 6]]\n",
    "\n",
    "  3. Write a Python class to find the three elements that sum to zero from a set of n real numbers.\n",
    "Input array : [-25, -10, -7, -3, 2, 4, 8, 10] Output : [[-10, 2, 8], [-7, -3, 10]]\n",
    "\n",
    " 4. Write a Python class to find a pair of elements (indices of the two numbers) from a given array whose sum equals a \n",
    "specific target number\n",
    "Input: numbers= [10,20,10,40,50,60,70], target=50 Output: 3, 4"
   ]
  },
  {
   "cell_type": "code",
   "execution_count": null,
   "metadata": {},
   "outputs": [],
   "source": [
    "#first question\n",
    "def two_numbers (list1, sum):\n",
    "    for i in range (1,len(list1)-1):\n",
    "        for j in range (0, len(list1)-2):\n",
    "            if (list1[i]+list1[j]== sum) and (j!= i):\n",
    "                return (i,j)  \n",
    "two_numbers ([10,20,10,40,50,60,70],70)   "
   ]
  },
  {
   "cell_type": "code",
   "execution_count": null,
   "metadata": {},
   "outputs": [],
   "source": [
    "#Second question\n",
    "class possibilities:\n",
    "    def subset_1 (self, sub):\n",
    "        return self.subset_2 ([],(sub))\n",
    "    def subset_2 (self, sub_1, sub):\n",
    "        if sub:\n",
    "            return self.subset_2 (sub_1, sub[1:]) + self.subset_2 (sub_1 + [sub[0]], sub[1:])\n",
    "        return [sub_1]\n",
    "print(possibilities().subset_1 ([89,58,67]))   "
   ]
  },
  {
   "cell_type": "code",
   "execution_count": null,
   "metadata": {},
   "outputs": [],
   "source": [
    "#Third question\n",
    "class elements:\n",
    "     def three_numbers(self, list1):\n",
    "        list1, result, i = sorted(list1), [], 0\n",
    "        while i < len(list1) - 2:\n",
    "            j, k = i + 1, len(list1) - 1\n",
    "            while j < k:\n",
    "                if list1[i] + list1[j] + list1[k] < 0:\n",
    "                    j += 1\n",
    "                elif list1[i] + list1[j] + list1[k] > 0:\n",
    "                    k -= 1\n",
    "                else:\n",
    "                    result.append([list1[i], list1[j], list1[k]])\n",
    "                    j, k = j + 1, k - 1\n",
    "                    while j < k and list1[j] == list1[j - 1]:\n",
    "                        j += 1\n",
    "                    while j < k and list1[k] == list1[k + 1]:\n",
    "                        k -= 1\n",
    "            i += 1\n",
    "            while i < len(list1) - 2 and list1[i] == list1[i - 1]:\n",
    "                i += 1\n",
    "        return result\n",
    "print(elements().three_numbers([-25, -10, -7, -3, 2, 4, 8, 10])) "
   ]
  },
  {
   "cell_type": "code",
   "execution_count": null,
   "metadata": {},
   "outputs": [],
   "source": [
    "#Fourth question \n",
    "class two_numbers:\n",
    "    def sum_numbers (self, list1, target):\n",
    "        index={}\n",
    "        for i, e in enumerate (list1):\n",
    "            if target- e in index:\n",
    "                return(index[target-e],i)\n",
    "            index[e]=i\n",
    "print(two_numbers().sum_numbers([10,20,10,40,50,60,70],50 ))       "
   ]
  },
  {
   "cell_type": "code",
   "execution_count": null,
   "metadata": {},
   "outputs": [],
   "source": []
  },
  {
   "cell_type": "code",
   "execution_count": null,
   "metadata": {},
   "outputs": [],
   "source": []
  }
 ],
 "metadata": {
  "kernelspec": {
   "display_name": "Python 3",
   "language": "python",
   "name": "python3"
  },
  "language_info": {
   "codemirror_mode": {
    "name": "ipython",
    "version": 3
   },
   "file_extension": ".py",
   "mimetype": "text/x-python",
   "name": "python",
   "nbconvert_exporter": "python",
   "pygments_lexer": "ipython3",
   "version": "3.8.3"
  }
 },
 "nbformat": 4,
 "nbformat_minor": 4
}
